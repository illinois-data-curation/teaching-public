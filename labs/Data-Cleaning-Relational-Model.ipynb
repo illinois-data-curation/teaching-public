{
 "cells": [
  {
   "cell_type": "markdown",
   "metadata": {},
   "source": [
    "## Introduction to Data Cleaning with the Relational Model"
   ]
  },
  {
   "cell_type": "markdown",
   "metadata": {},
   "source": [
    "### Learning Objectives\n",
    "\n",
    "* Apply strategies for data cleaning using the relational model including implementing a relational schema, integrity constarints, and queries"
   ]
  },
  {
   "cell_type": "markdown",
   "metadata": {},
   "source": [
    "### Prerequisites\n",
    "\n",
    "* Optional:  To use the command line interface (CLI), install DuckDB for your operating system from https://duckdb.org/docs/installation/?version=stable&environment=cli\n",
    "* Install `pandas` and `duckdb` Python libraries"
   ]
  },
  {
   "cell_type": "code",
   "execution_count": 1,
   "metadata": {},
   "outputs": [
    {
     "name": "stdout",
     "output_type": "stream",
     "text": [
      "Collecting pandas\n",
      "  Using cached pandas-2.2.3-cp312-cp312-macosx_11_0_arm64.whl.metadata (89 kB)\n",
      "Collecting duckdb\n",
      "  Downloading duckdb-1.1.3-cp312-cp312-macosx_12_0_arm64.whl.metadata (762 bytes)\n",
      "Collecting numpy>=1.26.0 (from pandas)\n",
      "  Using cached numpy-2.1.3-cp312-cp312-macosx_14_0_arm64.whl.metadata (62 kB)\n",
      "Requirement already satisfied: python-dateutil>=2.8.2 in /Users/willis8/dev/is537/teaching-public/.venv/lib/python3.12/site-packages (from pandas) (2.9.0.post0)\n",
      "Collecting pytz>=2020.1 (from pandas)\n",
      "  Using cached pytz-2024.2-py2.py3-none-any.whl.metadata (22 kB)\n",
      "Collecting tzdata>=2022.7 (from pandas)\n",
      "  Using cached tzdata-2024.2-py2.py3-none-any.whl.metadata (1.4 kB)\n",
      "Requirement already satisfied: six>=1.5 in /Users/willis8/dev/is537/teaching-public/.venv/lib/python3.12/site-packages (from python-dateutil>=2.8.2->pandas) (1.16.0)\n",
      "Using cached pandas-2.2.3-cp312-cp312-macosx_11_0_arm64.whl (11.4 MB)\n",
      "Downloading duckdb-1.1.3-cp312-cp312-macosx_12_0_arm64.whl (15.5 MB)\n",
      "\u001b[2K   \u001b[90m━━━━━━━━━━━━━━━━━━━━━━━━━━━━━━━━━━━━━━━━\u001b[0m \u001b[32m15.5/15.5 MB\u001b[0m \u001b[31m3.1 MB/s\u001b[0m eta \u001b[36m0:00:00\u001b[0m00:01\u001b[0m00:01\u001b[0m\n",
      "\u001b[?25hUsing cached numpy-2.1.3-cp312-cp312-macosx_14_0_arm64.whl (5.1 MB)\n",
      "Using cached pytz-2024.2-py2.py3-none-any.whl (508 kB)\n",
      "Using cached tzdata-2024.2-py2.py3-none-any.whl (346 kB)\n",
      "Installing collected packages: pytz, tzdata, numpy, duckdb, pandas\n",
      "Successfully installed duckdb-1.1.3 numpy-2.1.3 pandas-2.2.3 pytz-2024.2 tzdata-2024.2\n"
     ]
    }
   ],
   "source": [
    "! pip install pandas duckdb"
   ]
  },
  {
   "cell_type": "code",
   "execution_count": 2,
   "metadata": {},
   "outputs": [],
   "source": [
    "import duckdb\n",
    "import pandas as pd"
   ]
  },
  {
   "cell_type": "markdown",
   "metadata": {},
   "source": [
    "### 1. Inspect the Data\n",
    "\n",
    "Read the [About](https://data.cityofchicago.org/Health-Human-Services/Food-Inspections/4ijn-s7e5/about_data) page on the City of Chicago Data Portal. Use the Data Portal, this workspace environment, and/or `duckdb` API to inspect the dataset focusing on structure and attributes.\n",
    "\n",
    "For example, you can use DuckDB's built-in ability to query the CSV data directly and return a dataframe:"
   ]
  },
  {
   "cell_type": "code",
   "execution_count": 37,
   "metadata": {},
   "outputs": [
    {
     "data": {
      "text/html": [
       "<div>\n",
       "<style scoped>\n",
       "    .dataframe tbody tr th:only-of-type {\n",
       "        vertical-align: middle;\n",
       "    }\n",
       "\n",
       "    .dataframe tbody tr th {\n",
       "        vertical-align: top;\n",
       "    }\n",
       "\n",
       "    .dataframe thead th {\n",
       "        text-align: right;\n",
       "    }\n",
       "</style>\n",
       "<table border=\"1\" class=\"dataframe\">\n",
       "  <thead>\n",
       "    <tr style=\"text-align: right;\">\n",
       "      <th></th>\n",
       "      <th>Inspection ID</th>\n",
       "      <th>DBA Name</th>\n",
       "      <th>AKA Name</th>\n",
       "      <th>License #</th>\n",
       "      <th>Facility Type</th>\n",
       "      <th>Risk</th>\n",
       "      <th>Address</th>\n",
       "      <th>City State Zip</th>\n",
       "      <th>Inspection Date</th>\n",
       "      <th>Inspection Type</th>\n",
       "      <th>Results</th>\n",
       "      <th>Violations</th>\n",
       "    </tr>\n",
       "  </thead>\n",
       "  <tbody>\n",
       "    <tr>\n",
       "      <th>0</th>\n",
       "      <td>2078801</td>\n",
       "      <td>THREE CHEFS RESTURANT</td>\n",
       "      <td>THREE CHEFS RESTURANT</td>\n",
       "      <td>2009471</td>\n",
       "      <td>Restaurant</td>\n",
       "      <td>Risk 1 (High)</td>\n",
       "      <td>8125 S HALSTED ST</td>\n",
       "      <td>,IL,60620</td>\n",
       "      <td>08/22/2017</td>\n",
       "      <td>Complaint</td>\n",
       "      <td>Fail</td>\n",
       "      <td>2. FACILITIES TO MAINTAIN PROPER TEMPERATURE -...</td>\n",
       "    </tr>\n",
       "    <tr>\n",
       "      <th>1</th>\n",
       "      <td>2078380</td>\n",
       "      <td>THE GODDESS GOLD COAST</td>\n",
       "      <td>THE GODDESS AND GROCER</td>\n",
       "      <td>2397687</td>\n",
       "      <td>Restaurant</td>\n",
       "      <td>Risk 1 (HIGH)</td>\n",
       "      <td>1127 N STATE ST</td>\n",
       "      <td>CCHICAGO,IL,60610</td>\n",
       "      <td>08/14/2017</td>\n",
       "      <td>Complaint</td>\n",
       "      <td>Pass w/ Conditions</td>\n",
       "      <td>2. FACILITIES TO MAINTAIN PROPER TEMPERATURE -...</td>\n",
       "    </tr>\n",
       "    <tr>\n",
       "      <th>2</th>\n",
       "      <td>2015423</td>\n",
       "      <td>HAROLD'S CHICKEN 57 LLC.</td>\n",
       "      <td>HAROLD'S CHICKEN</td>\n",
       "      <td>2363519</td>\n",
       "      <td>Restaurant</td>\n",
       "      <td>Risk 1 (High)</td>\n",
       "      <td>6606 W NORTH AVE</td>\n",
       "      <td>Chicago,IL,60707</td>\n",
       "      <td>07/31/2017</td>\n",
       "      <td>Complaint</td>\n",
       "      <td>Pass</td>\n",
       "      <td>32. FOOD AND NON-FOOD CONTACT SURFACES PROPERL...</td>\n",
       "    </tr>\n",
       "    <tr>\n",
       "      <th>3</th>\n",
       "      <td>2071437</td>\n",
       "      <td>CHINA CAFE</td>\n",
       "      <td>CHINA CAFE</td>\n",
       "      <td>2535883</td>\n",
       "      <td>Restaurant</td>\n",
       "      <td>Risk 1 (High)</td>\n",
       "      <td>2300-2302 S WENTWORTH AVE BLDG</td>\n",
       "      <td>,IL,60616</td>\n",
       "      <td>07/26/2017</td>\n",
       "      <td>License</td>\n",
       "      <td>Pass</td>\n",
       "      <td>None</td>\n",
       "    </tr>\n",
       "    <tr>\n",
       "      <th>4</th>\n",
       "      <td>2071348</td>\n",
       "      <td>MARKET SELECT</td>\n",
       "      <td>MARKET SELECT</td>\n",
       "      <td>2523569</td>\n",
       "      <td>Grocery Store</td>\n",
       "      <td>Risk 3 (Low)</td>\n",
       "      <td>912 N ASHLAND AVE</td>\n",
       "      <td>,IL,60622</td>\n",
       "      <td>07/25/2017</td>\n",
       "      <td>License</td>\n",
       "      <td>Pass</td>\n",
       "      <td>37. TOILET ROOM DOORS SELF CLOSING: DRESSING R...</td>\n",
       "    </tr>\n",
       "  </tbody>\n",
       "</table>\n",
       "</div>"
      ],
      "text/plain": [
       "   Inspection ID                  DBA Name                AKA Name License #  \\\n",
       "0        2078801     THREE CHEFS RESTURANT   THREE CHEFS RESTURANT   2009471   \n",
       "1        2078380    THE GODDESS GOLD COAST  THE GODDESS AND GROCER   2397687   \n",
       "2        2015423  HAROLD'S CHICKEN 57 LLC.        HAROLD'S CHICKEN   2363519   \n",
       "3        2071437                CHINA CAFE              CHINA CAFE   2535883   \n",
       "4        2071348             MARKET SELECT           MARKET SELECT   2523569   \n",
       "\n",
       "   Facility Type           Risk                          Address  \\\n",
       "0     Restaurant  Risk 1 (High)               8125 S HALSTED ST    \n",
       "1     Restaurant  Risk 1 (HIGH)                 1127 N STATE ST    \n",
       "2     Restaurant  Risk 1 (High)                6606 W NORTH AVE    \n",
       "3     Restaurant  Risk 1 (High)  2300-2302 S WENTWORTH AVE BLDG    \n",
       "4  Grocery Store   Risk 3 (Low)               912 N ASHLAND AVE    \n",
       "\n",
       "      City State Zip Inspection Date Inspection Type             Results  \\\n",
       "0          ,IL,60620      08/22/2017       Complaint                Fail   \n",
       "1  CCHICAGO,IL,60610      08/14/2017       Complaint  Pass w/ Conditions   \n",
       "2   Chicago,IL,60707      07/31/2017       Complaint                Pass   \n",
       "3          ,IL,60616      07/26/2017         License                Pass   \n",
       "4          ,IL,60622      07/25/2017         License                Pass   \n",
       "\n",
       "                                          Violations  \n",
       "0  2. FACILITIES TO MAINTAIN PROPER TEMPERATURE -...  \n",
       "1  2. FACILITIES TO MAINTAIN PROPER TEMPERATURE -...  \n",
       "2  32. FOOD AND NON-FOOD CONTACT SURFACES PROPERL...  \n",
       "3                                               None  \n",
       "4  37. TOILET ROOM DOORS SELF CLOSING: DRESSING R...  "
      ]
     },
     "execution_count": 37,
     "metadata": {},
     "output_type": "execute_result"
    }
   ],
   "source": [
    "duckdb.sql(\"SELECT * FROM '../datasets/inspections/food-inspections-dirty.csv' limit 5\").df()"
   ]
  },
  {
   "cell_type": "markdown",
   "metadata": {},
   "source": [
    "### 2. Create Your Schema\n",
    "* Create a file named `schema.sql` that can be used to create your database.\n",
    "* Your schema must contain a table named `INSPECTIONS` that stores the inspection data. This table must have a primary key."
   ]
  },
  {
   "cell_type": "code",
   "execution_count": 79,
   "metadata": {},
   "outputs": [],
   "source": [
    "with duckdb.connect(\"inspections.db\") as con:\n",
    "    with open(\"schema.sql\", \"r\") as f:\n",
    "        # Create the DB schema\n",
    "        con.sql(f.read())\n",
    "        # Import data\n",
    "        con.sql(\"INSERT INTO inspections (SELECT * FROM read_csv('../datasets/inspections/food-inspections-cleaned.csv'))\")"
   ]
  },
  {
   "cell_type": "markdown",
   "metadata": {},
   "source": [
    "Implement a function `count_inspections()` that uses `duckdb.sql()` to query the database and return the total number of inspections."
   ]
  },
  {
   "cell_type": "code",
   "execution_count": 80,
   "metadata": {},
   "outputs": [],
   "source": [
    "def count_inspections(con):\n",
    "    \"\"\"\n",
    "    Use duckdb.sql() to execute a query that returns a count of the total number of inspections.\n",
    "    Return the count as a single number.\n",
    "    \"\"\"\n",
    "    return int(con.sql(\"SELECT COUNT(*) AS COUNT from INSPECTIONS\").df()[\"COUNT\"][0])"
   ]
  },
  {
   "cell_type": "code",
   "execution_count": 81,
   "metadata": {},
   "outputs": [
    {
     "name": "stdout",
     "output_type": "stream",
     "text": [
      "Success\n"
     ]
    }
   ],
   "source": [
    "#test\n",
    "with duckdb.connect(\"inspections.db\") as con:\n",
    "    assert(count_inspections(con) == 720)\n",
    "    print(\"Success\")"
   ]
  },
  {
   "cell_type": "markdown",
   "metadata": {},
   "source": [
    "### 3. Transform the Data\n",
    "\n",
    "As you may have noticed, the `Violations` field contains nested records for each of the violations found during a single inspection. Note that the violations refer to a list of standard [codes and descriptions](https://www.chicago.gov/city/en/depts/cdph/provdrs/food_safety/svcs/understand_healthcoderequirementsforfoodestablishments.html) but also contain information specific to the inspection.\n",
    "\n",
    "Update your `schema.sql` to create additional tables to store the violations data.\n",
    "\n",
    "* `VIOLATIONS`: Table to store unique information about violations. It must have a primary key that serves as a foreign key for the `INSPECTION_VIOLATIONS` table.\n",
    "* `INSPECTION_VIOLATIONS`: Table to store **unique** information about violations associated with each inspection (hint: check for duplicates). It must have a primary key and foreign keys to `INSPECTIONS` and `VIOLATIONS`.\n",
    "\n",
    "Write a function `parse_violations()` that uses the DuckDB API to parse the `INSPECTIONS.Violations` field and populate the two new tables. This function is tested based on the number of records in `VIOLATIONS` and `INSPECTION_VIOLATIONS` tables.\n",
    "\n",
    "Note that in the source data each delimited violation contains an `identifier`, `description`, and *optional* `comment` that is specific to the inspection. This information all needs to be represented in your database. \n",
    "\n",
    "Also, be aware of potential whitespace variations in violations that would otherwise be identical."
   ]
  },
  {
   "cell_type": "code",
   "execution_count": 82,
   "metadata": {},
   "outputs": [],
   "source": [
    "def parse_violations(con):\n",
    "    violations_sql = \"\"\"\n",
    "        insert into violations\n",
    "        select distinct violation['violation_id'] as violation_id, trim(violation['description']) as description\n",
    "        from\n",
    "        (\n",
    "            select inspection_id, regexp_extract(\n",
    "                trim(regexp_split_to_table(inspections.violations, '\\\\|')),\n",
    "                '^(\\\\d+)\\\\.(.*?)(?:-\\\\s+Comments?:(.*))?$',\n",
    "                ['violation_id', 'description', 'comments']\n",
    "            ) as violation\n",
    "            from inspections\n",
    "        ) \n",
    "        where violation_id != ''\n",
    "        order by cast(violation_id as integer);\n",
    "    \"\"\"\n",
    "\n",
    "    inspection_violations_sql = \"\"\"\n",
    "        insert into inspection_violations\n",
    "        select inspection_id, violation['violation_id']  as violation_id, trim(violation['comments']) as comment\n",
    "        from\n",
    "        (\n",
    "            select DISTINCT inspection_id, regexp_extract(\n",
    "                trim(regexp_split_to_table(inspections.violations, '\\\\|')),\n",
    "                '^(\\\\d+)\\\\.(.*?)(?:-\\\\s+Comments?:\\\\s+(.*))?$',\n",
    "                ['violation_id', 'description', 'comments']\n",
    "            ) as violation\n",
    "            from inspections \n",
    "        ) \n",
    "        where violation_id != ''\n",
    "        order by inspection_id, cast(violation_id as integer);\n",
    "    \"\"\"\n",
    "    con.sql(violations_sql)\n",
    "    con.sql(inspection_violations_sql)    "
   ]
  },
  {
   "cell_type": "code",
   "execution_count": 83,
   "metadata": {},
   "outputs": [
    {
     "name": "stdout",
     "output_type": "stream",
     "text": [
      "Success\n"
     ]
    }
   ],
   "source": [
    "#test\n",
    "with duckdb.connect(\"inspections.db\") as con:\n",
    "    con.sql(\"DELETE FROM INSPECTION_VIOLATIONS\")\n",
    "    con.sql(\"DELETE FROM VIOLATIONS\")\n",
    "    parse_violations(con)    \n",
    "    assert(con.sql(\"SELECT COUNT(*) FROM INSPECTION_VIOLATIONS\").fetchone()[0] == 1457)\n",
    "    assert(con.sql(\"SELECT COUNT(*) FROM VIOLATIONS\").fetchone()[0] == 37)\n",
    "    print(\"Success\")"
   ]
  },
  {
   "cell_type": "markdown",
   "metadata": {},
   "source": [
    "### 4. Functional Dependencies"
   ]
  },
  {
   "cell_type": "markdown",
   "metadata": {},
   "source": [
    "DBAName -> Zip"
   ]
  },
  {
   "cell_type": "code",
   "execution_count": 88,
   "metadata": {},
   "outputs": [
    {
     "name": "stdout",
     "output_type": "stream",
     "text": [
      "                         dba_name    zip  zip_1\n",
      "0  LA COCINITA FOOD TRUCK CHICAGO  60201  60077\n",
      "1             ABUNDANT RESTAURANT  60409  60429\n",
      "2             PIKO STREET KITCHEN  60076  60193\n",
      "3  LA COCINITA FOOD TRUCK CHICAGO  60201  60077\n",
      "4  LA COCINITA FOOD TRUCK CHICAGO  60201  60077\n"
     ]
    }
   ],
   "source": [
    "c1 = \"\"\"\n",
    "SELECT i1.DBA_Name, i1.zip, i2.zip FROM inspections i1, inspections i2\n",
    "WHERE i1.DBA_Name = i2.DBA_Name\n",
    "AND i1.zip != i2.zip\n",
    "\"\"\"\n",
    "with duckdb.connect(\"inspections.db\") as con:\n",
    "    df = con.sql(c1).df()\n",
    "    print(df.head())"
   ]
  },
  {
   "cell_type": "markdown",
   "metadata": {},
   "source": [
    "Zip -> City, State"
   ]
  },
  {
   "cell_type": "code",
   "execution_count": 87,
   "metadata": {},
   "outputs": [
    {
     "name": "stdout",
     "output_type": "stream",
     "text": [
      "     zip        city           city_1 state state_1\n",
      "0  60610    CCHICAGO  CHESTNUT STREET    IL      IL\n",
      "1  60153     MAYWOOD          Maywood    IL      IL\n",
      "2  60618     Chicago         CCHICAGO    IL      IL\n",
      "3  60606  312CHICAGO          Chicago    IL      IL\n",
      "4  60618     Chicago         CCHICAGO    IL      IL\n"
     ]
    }
   ],
   "source": [
    "c1 = \"\"\"\n",
    "SELECT i1.zip, i1.city, i2.city, i1.state, i2.state FROM inspections i1, inspections i2\n",
    "WHERE i1.zip = i2.zip\n",
    "AND (i1.city != i2.city or i1.state != i2.state)\n",
    "\"\"\"\n",
    "with duckdb.connect(\"inspections.db\") as con:\n",
    "    df = con.sql(c1).df()\n",
    "    print(df.head())"
   ]
  }
 ],
 "metadata": {
  "kernelspec": {
   "display_name": ".venv",
   "language": "python",
   "name": "python3"
  },
  "language_info": {
   "codemirror_mode": {
    "name": "ipython",
    "version": 3
   },
   "file_extension": ".py",
   "mimetype": "text/x-python",
   "name": "python",
   "nbconvert_exporter": "python",
   "pygments_lexer": "ipython3",
   "version": "3.12.5"
  }
 },
 "nbformat": 4,
 "nbformat_minor": 2
}
